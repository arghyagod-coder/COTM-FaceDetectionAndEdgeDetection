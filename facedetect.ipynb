{
 "cells": [
  {
   "cell_type": "code",
   "execution_count": 1,
   "source": [
    "import cv2\n",
    "import matplotlib.pyplot as plt\n",
    "import numpy as np\n",
    "import os\n"
   ],
   "outputs": [],
   "metadata": {}
  },
  {
   "cell_type": "code",
   "execution_count": 2,
   "source": [
    "nose = cv2.CascadeClassifier('models/nose.xml')\n",
    "\n",
    "mouth = cv2.CascadeClassifier('models/mouth.xml')\n",
    "\n",
    "face = cv2.CascadeClassifier('models/face.xml')\n",
    "\n",
    "eyes = cv2.CascadeClassifier('models/eye.xml')\n"
   ],
   "outputs": [],
   "metadata": {}
  },
  {
   "cell_type": "code",
   "execution_count": 3,
   "source": [
    "\n",
    "imgs = os.listdir('img/')\n",
    "\n",
    "for i in imgs:\n",
    "    img = cv2.imread(f'img/{i}', 0)\n",
    "\n",
    "    col = cv2.imread(f'img/{i}')\n",
    "    col = cv2.cvtColor(col, cv2.COLOR_BGR2RGB)\n",
    "\n",
    "    def draw_boundary(img, classifier, scaleFactor, minNeighbors, color, text):\n",
    "        gray_img = cv2.cvtColor(img, cv2.COLOR_BGR2GRAY)\n",
    "        features = classifier.detectMultiScale(gray_img, scaleFactor, minNeighbors)\n",
    "        coords = []\n",
    "        for (x, y, w, h) in features:\n",
    "            cv2.rectangle(img, (x,y), (x+w, y+h), color, 2)\n",
    "            cv2.putText(img, text, (x, y-4), cv2.FONT_HERSHEY_SIMPLEX, 0.8, color, 1, cv2.LINE_AA)\n",
    "            coords = [x, y, w, h]\n",
    "        return coords\n",
    "\n",
    "\n",
    "    def detect(img, faceCascade, eyeCascade, noseCascade, mouthCascade):\n",
    "        color = {\"blue\":(255,0,0), \"red\":(0,0,255), \"green\":(0,255,0), \"white\":(255,255,255)}\n",
    "        coords = draw_boundary(img, faceCascade, 1.1, 10, color['blue'], \"Face\")\n",
    "        if len(coords)==4:\n",
    "            roi_img = img[coords[1]:coords[1]+coords[3], coords[0]:coords[0]+coords[2]]\n",
    "            coords = draw_boundary(roi_img, eyeCascade, 1.1, 5, color['red'], \"Eye\")\n",
    "            coords = draw_boundary(roi_img, noseCascade, 1.1, 4, color['green'], \"Nose\")\n",
    "            coords = draw_boundary(roi_img, mouthCascade, 1.5, 8, color['white'], \"Mouth\")\n",
    "        return img\n",
    "\n",
    "    col = detect(col, face, eyes, nose, mouth)\n",
    "    plt.imshow(col)\n",
    "    plt.title(\"Output\")\n",
    "    plt.axis('off')\n",
    "    plt.show()"
   ],
   "outputs": [],
   "metadata": {}
  },
  {
   "cell_type": "code",
   "execution_count": null,
   "source": [],
   "outputs": [],
   "metadata": {}
  }
 ],
 "metadata": {
  "orig_nbformat": 4,
  "language_info": {
   "name": "python",
   "version": "3.9.5",
   "mimetype": "text/x-python",
   "codemirror_mode": {
    "name": "ipython",
    "version": 3
   },
   "pygments_lexer": "ipython3",
   "nbconvert_exporter": "python",
   "file_extension": ".py"
  },
  "kernelspec": {
   "name": "python3",
   "display_name": "Python 3.9.5 64-bit ('base': conda)"
  },
  "interpreter": {
   "hash": "fd79cda1b35b67aa82641488774d0fa2fd5006bc143350ce12faab9598c1eafc"
  }
 },
 "nbformat": 4,
 "nbformat_minor": 2
}